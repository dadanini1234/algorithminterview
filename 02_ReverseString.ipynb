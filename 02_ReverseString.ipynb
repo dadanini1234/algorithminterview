{
  "nbformat": 4,
  "nbformat_minor": 0,
  "metadata": {
    "colab": {
      "name": "02_ReverseString.ipynb",
      "provenance": [],
      "collapsed_sections": []
    },
    "kernelspec": {
      "name": "python3",
      "display_name": "Python 3"
    },
    "language_info": {
      "name": "python"
    }
  },
  "cells": [
    {
      "cell_type": "markdown",
      "source": [
        "# 02 문자열 뒤집기\n",
        "---\n",
        "문자열을 뒤집는 함수를 작성하라.\n",
        "입력값은 문자 배열이며, 리턴 없이 리스트 내부를 직접 조작하라"
      ],
      "metadata": {
        "id": "Eg15F3iUBt58"
      }
    },
    {
      "cell_type": "markdown",
      "source": [
        "Example 1:\n",
        "\n",
        "Input: s = [\"h\",\"e\",\"l\",\"l\",\"o\"] \\\n",
        "Output: [\"o\",\"l\",\"l\",\"e\",\"h\"]"
      ],
      "metadata": {
        "id": "ijJrj9BGDCL2"
      }
    },
    {
      "cell_type": "markdown",
      "source": [
        "## # 풀이 1. 투 포인터를 이용한 스왑\n",
        "\n",
        "- 단어 그대로 2개의 포인터를 이용해 범위를 조정해가며 풀이하는 방식\n",
        "- 범위를 좁혀가며 스왑하는 형태로 풀이"
      ],
      "metadata": {
        "id": "gbjBBBsrtfCS"
      }
    },
    {
      "cell_type": "markdown",
      "source": [
        "```\n",
        "class Solution:\n",
        "    def reverseString(self, s: List[str]) -> None:\n",
        "        \"\"\"\n",
        "        Do not return anything, modify s in-place instead.\n",
        "        \"\"\"\n",
        "        left, right = 0, len(s) - 1\n",
        "        while left < right:\n",
        "            s[left], s[right] = s[right], s[left]\n",
        "            left += 1\n",
        "            right -= 1\n",
        "```\n",
        "\n"
      ],
      "metadata": {
        "id": "e7v3RAogFASX"
      }
    },
    {
      "cell_type": "code",
      "source": [
        "def reverseString(s) -> None:\n",
        "    left, right = 0, len(s) -1\n",
        "    while left < right :\n",
        "        s[left], s[right] = s[right], s[left]\n",
        "        left += 1\n",
        "        right -= 1\n",
        "    print(s)"
      ],
      "metadata": {
        "id": "-ImNvFfFDU2u"
      },
      "execution_count": null,
      "outputs": []
    },
    {
      "cell_type": "code",
      "source": [
        "s = [\"h\",\"e\",\"l\",\"l\",\"o\"]\n",
        "reverseString(s)"
      ],
      "metadata": {
        "colab": {
          "base_uri": "https://localhost:8080/"
        },
        "id": "NvxXPztHDKka",
        "outputId": "b317c571-7280-463a-b1ee-3522cde89d79"
      },
      "execution_count": null,
      "outputs": [
        {
          "output_type": "stream",
          "name": "stdout",
          "text": [
            "['o', 'l', 'l', 'e', 'h']\n"
          ]
        }
      ]
    },
    {
      "cell_type": "markdown",
      "source": [
        "- Runtime: 279 ms"
      ],
      "metadata": {
        "id": "Z7-HH9lCEODd"
      }
    },
    {
      "cell_type": "markdown",
      "source": [
        "## # 풀이 2. 파이썬다운 방식\n",
        "\n",
        "- 파이썬 기본 기능 이용\n",
        "- `reverse()` 함수 사용\n",
        "\n",
        "\n",
        "\n",
        "```\n",
        "class Solution:\n",
        "    def reverseString(self, s: List[str]) -> None:\n",
        "        s.reverse()\n",
        "```\n",
        "- 슬라이싱 기능 사용\n",
        "\n",
        "\n",
        "```\n",
        "class Solution:\n",
        "    def reverseString(self, s: List[str]) -> None:\n",
        "        s[:] = s[::-1]\n",
        "```\n",
        "\n",
        "\n"
      ],
      "metadata": {
        "id": "1TK8kJ0MFTPx"
      }
    },
    {
      "cell_type": "code",
      "source": [
        "def reverseString(s) -> None:\n",
        "    s.reverse()\n",
        "    print(s)"
      ],
      "metadata": {
        "id": "popX_M49FR04"
      },
      "execution_count": null,
      "outputs": []
    },
    {
      "cell_type": "code",
      "source": [
        "s = [\"h\",\"e\",\"l\",\"l\",\"o\"]\n",
        "reverseString(s)"
      ],
      "metadata": {
        "colab": {
          "base_uri": "https://localhost:8080/"
        },
        "id": "Di4vx-1UFkAS",
        "outputId": "7ef573f8-5431-46b7-d37a-2826d284e8f2"
      },
      "execution_count": null,
      "outputs": [
        {
          "output_type": "stream",
          "name": "stdout",
          "text": [
            "['o', 'l', 'l', 'e', 'h']\n"
          ]
        }
      ]
    },
    {
      "cell_type": "markdown",
      "source": [
        "- Runtime: 374 ms"
      ],
      "metadata": {
        "id": "HtTY0hEHGLb3"
      }
    },
    {
      "cell_type": "code",
      "source": [
        "def reverseString(s) -> None:\n",
        "    s[:] = s[::-1]\n",
        "    print(s)"
      ],
      "metadata": {
        "id": "3HpecUb9GK9_"
      },
      "execution_count": null,
      "outputs": []
    },
    {
      "cell_type": "code",
      "source": [
        "s = [\"h\",\"e\",\"l\",\"l\",\"o\"]\n",
        "reverseString(s)"
      ],
      "metadata": {
        "colab": {
          "base_uri": "https://localhost:8080/"
        },
        "id": "XkbmI6ZrGpj-",
        "outputId": "f277ea4d-29da-4b6a-acf9-158e0e0bf020"
      },
      "execution_count": null,
      "outputs": [
        {
          "output_type": "stream",
          "name": "stdout",
          "text": [
            "['o', 'l', 'l', 'e', 'h']\n"
          ]
        }
      ]
    },
    {
      "cell_type": "markdown",
      "source": [
        "- Runtime: 351 ms"
      ],
      "metadata": {
        "id": "ah5XsT6nGtUe"
      }
    },
    {
      "cell_type": "markdown",
      "source": [
        "![image.png](data:image/png;base64,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)"
      ],
      "metadata": {
        "id": "0itEpHahGxte"
      }
    }
  ]
}