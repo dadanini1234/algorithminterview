{
  "nbformat": 4,
  "nbformat_minor": 0,
  "metadata": {
    "colab": {
      "name": "01_ValidPalindrome",
      "provenance": [],
      "collapsed_sections": []
    },
    "kernelspec": {
      "name": "python3",
      "display_name": "Python 3"
    },
    "language_info": {
      "name": "python"
    }
  },
  "cells": [
    {
      "cell_type": "markdown",
      "source": [
        "# 01 유효한 팰린드롬\n",
        "---\n",
        "주어진 문자열이 팰린드롬인지 확인하라. 대소문자를 구분하지 않으며, 영문자와 숫자만을 대상으로 한다.\n",
        "\n",
        "팰린드롬 : 앞뒤가 똑같은 단어나 문장.. 기러기 스위스 인도인 토마토 별똥별 우영우 "
      ],
      "metadata": {
        "id": "-7xoQowNsjUA"
      }
    },
    {
      "cell_type": "markdown",
      "source": [
        "예제1) \"A man, a plan, a canal: Panama\" \n",
        "\n",
        "출력) True\n"
      ],
      "metadata": {
        "id": "nlfjn-0Qs8bX"
      }
    },
    {
      "cell_type": "markdown",
      "source": [
        "예제2) \"race a car\"\n",
        "\n",
        "출력) False\n"
      ],
      "metadata": {
        "id": "mKLVeDaztPLi"
      }
    },
    {
      "cell_type": "markdown",
      "source": [
        "## # 풀이 1. 리스트로 변환\n",
        "\n",
        "- 직접 문자열을 입력받아 팰린드롬 여부를 판별해본다\n",
        "- 대소문자 여부를 구분하지 않음\n",
        "- 영문자, 숫자만을 대상으로 한다\n",
        "- 이 부분에 대한 전처리부터 구현"
      ],
      "metadata": {
        "id": "gbjBBBsrtfCS"
      }
    },
    {
      "cell_type": "code",
      "source": [
        "# isalnum, lower 로 전처리\n",
        "s = \"A man, a plan, a canal: Panama\"\n",
        "strs = []\n",
        "for char in s:\n",
        "    if char.isalnum():\n",
        "        strs.append(char.lower())"
      ],
      "metadata": {
        "id": "2YA32OPgyRU-"
      },
      "execution_count": null,
      "outputs": []
    },
    {
      "cell_type": "markdown",
      "source": [
        "- `isalnum()` : 영문자, 숫자 여부를 판별하는 함수, 이를 이용해 해당하는 문자만 추가한다\n",
        "- `lower()` : 모두 소문자로 변환"
      ],
      "metadata": {
        "id": "eZyvRRdxy5bu"
      }
    },
    {
      "cell_type": "code",
      "source": [
        "print(strs)"
      ],
      "metadata": {
        "colab": {
          "base_uri": "https://localhost:8080/"
        },
        "id": "vKrs3f5oydgZ",
        "outputId": "4540c3b5-4e65-4a1c-b361-feb52f7f431d"
      },
      "execution_count": null,
      "outputs": [
        {
          "output_type": "stream",
          "name": "stdout",
          "text": [
            "['a', 'm', 'a', 'n', 'a', 'p', 'l', 'a', 'n', 'a', 'c', 'a', 'n', 'a', 'l', 'p', 'a', 'n', 'a', 'm', 'a']\n"
          ]
        }
      ]
    },
    {
      "cell_type": "code",
      "source": [
        "def isPalindrome(s:str) -> bool:\n",
        "    strs =[]\n",
        "    for char in s:\n",
        "        if char.isalnum():\n",
        "            strs.append(char.lower())\n",
        "\n",
        "    # 팰린드롬인지 판별\n",
        "    while len(strs) > 1:\n",
        "        if strs.pop(0) != strs.pop(): \n",
        "            return False\n",
        "    \n",
        "    return True"
      ],
      "metadata": {
        "id": "thvvsEmE0iHC"
      },
      "execution_count": null,
      "outputs": []
    },
    {
      "cell_type": "markdown",
      "source": [
        "- `pop(0)` : 리스트의 첫번째 요소 추출\n",
        "- `pop()` : 리스트이 마지막 요소 추출"
      ],
      "metadata": {
        "id": "fJdiPgEy3UwG"
      }
    },
    {
      "cell_type": "code",
      "source": [
        "s = \"A man, a plan, a canal: Panama\"\n",
        "isPalindrome(s)"
      ],
      "metadata": {
        "colab": {
          "base_uri": "https://localhost:8080/"
        },
        "id": "hN0b01Az1P55",
        "outputId": "e601c140-59f9-43d2-a1f7-6adb9229e67b"
      },
      "execution_count": null,
      "outputs": [
        {
          "output_type": "execute_result",
          "data": {
            "text/plain": [
              "True"
            ]
          },
          "metadata": {},
          "execution_count": 23
        }
      ]
    },
    {
      "cell_type": "markdown",
      "source": [
        "- 240 ms"
      ],
      "metadata": {
        "id": "x_qTGmrn7U5G"
      }
    },
    {
      "cell_type": "markdown",
      "source": [
        "## # 풀이 2. 데크 자료형을 이용한 최적화\n",
        "\n",
        "- 리스트만으로도 문제 해결은 가능하지만, 데크(Deque)를 명시적으로 선언하면 좀 더 속도를 높일 수 있음\n",
        "- 풀이 1 은 실행에 304밀리초가 소요됨\n",
        "- 데크를 변경해서 개선해보자"
      ],
      "metadata": {
        "id": "Q3ZTP3zo3A0l"
      }
    },
    {
      "cell_type": "code",
      "source": [
        "import collections\n",
        "\n",
        "def isPalindrome(s:str) -> bool:\n",
        "    # 자료형 데크로 선언\n",
        "    strs = collections.deque()\n",
        "\n",
        "    for char in s:\n",
        "        if char.isalnum():\n",
        "            strs.append(char.lower())\n",
        "\n",
        "    # 팰린드롬인지 판별\n",
        "    while len(strs) > 1:\n",
        "        if strs.popleft() != strs.pop(): # 데크는 popleft!\n",
        "            return False\n",
        "        \n",
        "    return True"
      ],
      "metadata": {
        "id": "d0Nl2Nx51SBh"
      },
      "execution_count": null,
      "outputs": []
    },
    {
      "cell_type": "code",
      "source": [
        "s = \"A man, a plan, a canal: Panama\"\n",
        "\n",
        "isPalindrome(s)"
      ],
      "metadata": {
        "colab": {
          "base_uri": "https://localhost:8080/"
        },
        "id": "4ChOmoY64T0P",
        "outputId": "f05762d6-8210-4d6e-b156-5dff84b29b5f"
      },
      "execution_count": null,
      "outputs": [
        {
          "output_type": "execute_result",
          "data": {
            "text/plain": [
              "True"
            ]
          },
          "metadata": {},
          "execution_count": 50
        }
      ]
    },
    {
      "cell_type": "code",
      "source": [
        "import collections\n",
        "\n",
        "strs = collections.deque()\n",
        "s = \"A man, a plan, a canal: Panama\"\n",
        "\n",
        "for char in s:\n",
        "    if char.isalnum():\n",
        "        strs.append(char.lower())"
      ],
      "metadata": {
        "id": "4aazbdV14UM6"
      },
      "execution_count": null,
      "outputs": []
    },
    {
      "cell_type": "code",
      "source": [
        "print(strs)"
      ],
      "metadata": {
        "colab": {
          "base_uri": "https://localhost:8080/"
        },
        "id": "557Uw2-P5DBy",
        "outputId": "449529e3-6d65-47eb-e641-2fc8e73973f5"
      },
      "execution_count": null,
      "outputs": [
        {
          "output_type": "stream",
          "name": "stdout",
          "text": [
            "deque(['a', 'm', 'a', 'n', 'a', 'p', 'l', 'a', 'n', 'a', 'c', 'a', 'n', 'a', 'l', 'p', 'a', 'n', 'a', 'm', 'a'])\n"
          ]
        }
      ]
    },
    {
      "cell_type": "markdown",
      "source": [
        "- 63 ms \n",
        "- 240 -> 63 으로 줄었음\n",
        "- 왜냐면 리스트 pop(0) 은 O(n), 데크의 popleft() 는 O(1) 이라서"
      ],
      "metadata": {
        "id": "XlEvUfs05hCR"
      }
    },
    {
      "cell_type": "markdown",
      "source": [
        "## # 풀이 3. 슬라이싱 사용\n",
        "\n",
        "- 슬라이싱을 사용한 문제 풀이"
      ],
      "metadata": {
        "id": "zYXY2W4M8CWv"
      }
    },
    {
      "cell_type": "code",
      "source": [
        "import re\n",
        "\n",
        "def isPalindrome(s:str) -> bool:\n",
        "    s = s.lower()\n",
        "    # 정규식으로 불필요한 문자 필터링\n",
        "    s = re.sub('[^a-z0-9]', '', s) # -> s 안에서 소문자, 숫자가 아닌 것을 찾아서 ''로 대체하라, 즉 삭제\n",
        "    return s == s[::-1] # 슬라이싱"
      ],
      "metadata": {
        "id": "cQTSRyP876lA"
      },
      "execution_count": null,
      "outputs": []
    },
    {
      "cell_type": "code",
      "source": [
        "s = \"A man, a plan, a canal: Panama\"\n",
        "\n",
        "isPalindrome(s)"
      ],
      "metadata": {
        "colab": {
          "base_uri": "https://localhost:8080/"
        },
        "id": "dVulFNzI8lAH",
        "outputId": "2683cdf9-ba28-4877-b0d7-eb27baf75041"
      },
      "execution_count": null,
      "outputs": [
        {
          "output_type": "execute_result",
          "data": {
            "text/plain": [
              "True"
            ]
          },
          "metadata": {},
          "execution_count": 54
        }
      ]
    },
    {
      "cell_type": "markdown",
      "source": [
        "- `re.sub(패턴, 바꿀데이터, 원본데이터)` : 특정 패턴이 매칭되는 것을 찾아서, 다른 문자열로 바꾸기\n",
        "- `s[::-1]` : 문자열 뒤집음\n",
        "- 40 ms 걸림 \n"
      ],
      "metadata": {
        "id": "cDXmCXnU8lY_"
      }
    },
    {
      "cell_type": "markdown",
      "source": [
        "![image.png](data:image/png;base64,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)"
      ],
      "metadata": {
        "id": "0tfL7aHJBjS-"
      }
    },
    {
      "cell_type": "markdown",
      "source": [
        "### [문자열 슬라이싱]\n",
        "\n",
        "- 내부적으로 빠르게 동작함\n",
        "- 문자열을 조작할 대는 항상 슬라이싱을 우선으로 사용하는 것이 속도 개선에 유리함\n",
        "- 안녕하세요는 [0, 1, 2, 3, 4] , 뒤에서부터 [-5, -4, -3, -2, -1]  "
      ],
      "metadata": {
        "id": "9TXR4bW3993B"
      }
    },
    {
      "cell_type": "code",
      "source": [
        "s = '안녕하세요'\n",
        "print(s[1:4]) # 인덱스 1에서 4 이전까지, 4는 포함 안함"
      ],
      "metadata": {
        "colab": {
          "base_uri": "https://localhost:8080/"
        },
        "id": "IWjlIf9J_fnP",
        "outputId": "e561b65c-6112-4094-ac64-2d110b4eb214"
      },
      "execution_count": null,
      "outputs": [
        {
          "output_type": "stream",
          "name": "stdout",
          "text": [
            "녕하세\n"
          ]
        }
      ]
    },
    {
      "cell_type": "code",
      "source": [
        "print(s[1:-2]) # 인덱스 1에서 -2 이전까지, -2 포함 안함"
      ],
      "metadata": {
        "colab": {
          "base_uri": "https://localhost:8080/"
        },
        "id": "ovYBhJMh_lH5",
        "outputId": "0135afdc-51b3-462d-dee1-923ab53ca752"
      },
      "execution_count": null,
      "outputs": [
        {
          "output_type": "stream",
          "name": "stdout",
          "text": [
            "녕하\n"
          ]
        }
      ]
    },
    {
      "cell_type": "code",
      "source": [
        "print(s[1:]) # 1에서부터 끝까지"
      ],
      "metadata": {
        "colab": {
          "base_uri": "https://localhost:8080/"
        },
        "id": "5G4uEm5UAFBP",
        "outputId": "34e1ff99-258b-4485-9d73-db21cf410260"
      },
      "execution_count": null,
      "outputs": [
        {
          "output_type": "stream",
          "name": "stdout",
          "text": [
            "녕하세요\n"
          ]
        }
      ]
    },
    {
      "cell_type": "code",
      "source": [
        "print(s[:]) # 둘 다 생략하면 사본 리턴"
      ],
      "metadata": {
        "colab": {
          "base_uri": "https://localhost:8080/"
        },
        "id": "e6-iGnXRANwG",
        "outputId": "dbcc4093-3b42-4d11-ff71-572f5cad5a40"
      },
      "execution_count": null,
      "outputs": [
        {
          "output_type": "stream",
          "name": "stdout",
          "text": [
            "안녕하세요\n"
          ]
        }
      ]
    },
    {
      "cell_type": "code",
      "source": [
        "print(s[1:100]) # 문자열의 최대 길이만큼만 표현됨"
      ],
      "metadata": {
        "colab": {
          "base_uri": "https://localhost:8080/"
        },
        "id": "M0tBSn9UASNz",
        "outputId": "f1ba91e6-3227-4f00-d2c3-a4e413a4b863"
      },
      "execution_count": null,
      "outputs": [
        {
          "output_type": "stream",
          "name": "stdout",
          "text": [
            "녕하세요\n"
          ]
        }
      ]
    },
    {
      "cell_type": "code",
      "source": [
        "print(s[-1])"
      ],
      "metadata": {
        "colab": {
          "base_uri": "https://localhost:8080/"
        },
        "id": "cyQj00sOAYNw",
        "outputId": "1c142cfd-fa51-415d-c4ab-1916d6451e0f"
      },
      "execution_count": null,
      "outputs": [
        {
          "output_type": "stream",
          "name": "stdout",
          "text": [
            "요\n"
          ]
        }
      ]
    },
    {
      "cell_type": "code",
      "source": [
        "print(s[-4])"
      ],
      "metadata": {
        "colab": {
          "base_uri": "https://localhost:8080/"
        },
        "id": "GQHrJPS-AgSv",
        "outputId": "3d42e80a-227c-41f7-cd9f-00c77170f908"
      },
      "execution_count": null,
      "outputs": [
        {
          "output_type": "stream",
          "name": "stdout",
          "text": [
            "녕\n"
          ]
        }
      ]
    },
    {
      "cell_type": "code",
      "source": [
        "print(s[:-3])"
      ],
      "metadata": {
        "colab": {
          "base_uri": "https://localhost:8080/"
        },
        "id": "UGfmYoJ_AkxH",
        "outputId": "265240a6-60a2-4732-98d7-9cf2a45b2ec3"
      },
      "execution_count": null,
      "outputs": [
        {
          "output_type": "stream",
          "name": "stdout",
          "text": [
            "안녕\n"
          ]
        }
      ]
    },
    {
      "cell_type": "code",
      "source": [
        "print(s[::1]) # 1은 기본값으로 동일함"
      ],
      "metadata": {
        "colab": {
          "base_uri": "https://localhost:8080/"
        },
        "id": "5tbPEQmwAq_2",
        "outputId": "74815100-f4f7-419f-fa11-64a4ba903d20"
      },
      "execution_count": null,
      "outputs": [
        {
          "output_type": "stream",
          "name": "stdout",
          "text": [
            "안녕하세요\n"
          ]
        }
      ]
    },
    {
      "cell_type": "code",
      "source": [
        "print(s[::-1]) # 뒤집기"
      ],
      "metadata": {
        "colab": {
          "base_uri": "https://localhost:8080/"
        },
        "id": "XuMLgydtAuJe",
        "outputId": "2556867a-aae0-4098-bef6-e667a07e1be0"
      },
      "execution_count": null,
      "outputs": [
        {
          "output_type": "stream",
          "name": "stdout",
          "text": [
            "요세하녕안\n"
          ]
        }
      ]
    },
    {
      "cell_type": "code",
      "source": [
        "print(s[::2]) # 2칸씩 앞으로 이동"
      ],
      "metadata": {
        "colab": {
          "base_uri": "https://localhost:8080/"
        },
        "id": "jZS8xnptAw7N",
        "outputId": "d29c9105-bc7d-448a-8a74-19b6a154564d"
      },
      "execution_count": null,
      "outputs": [
        {
          "output_type": "stream",
          "name": "stdout",
          "text": [
            "안하요\n"
          ]
        }
      ]
    }
  ]
}